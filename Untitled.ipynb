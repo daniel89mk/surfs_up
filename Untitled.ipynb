{
 "cells": [
  {
   "cell_type": "code",
   "execution_count": 1,
   "id": "63114068",
   "metadata": {},
   "outputs": [],
   "source": [
    "import datetime as dt\n",
    "import numpy as np\n",
    "import pandas as pd\n"
   ]
  },
  {
   "cell_type": "code",
   "execution_count": 2,
   "id": "106def4b",
   "metadata": {},
   "outputs": [],
   "source": [
    "import sqlalchemy\n",
    "from sqlalchemy.ext.automap import automap_base\n",
    "from sqlalchemy.orm import Session\n",
    "from sqlalchemy import create_engine, func"
   ]
  },
  {
   "cell_type": "code",
   "execution_count": 3,
   "id": "dde88e3a",
   "metadata": {},
   "outputs": [],
   "source": [
    "from flask import Flask, jsonify"
   ]
  },
  {
   "cell_type": "code",
   "execution_count": 4,
   "id": "25fb004c",
   "metadata": {},
   "outputs": [],
   "source": [
    "engine = create_engine(\"sqlite:///hawaii.sqlite\")\n",
    "\n",
    "# create_engine() function allows us to access and query out SQLite database file"
   ]
  },
  {
   "cell_type": "code",
   "execution_count": 5,
   "id": "bc7249bd",
   "metadata": {},
   "outputs": [],
   "source": [
    "Base = automap_base()\n",
    "\n",
    "# Reflect the database into our classes"
   ]
  },
  {
   "cell_type": "code",
   "execution_count": 6,
   "id": "4a8e5009",
   "metadata": {},
   "outputs": [],
   "source": [
    "Base.prepare(engine, reflect=True)\n",
    "\n",
    "# to reflect the tables"
   ]
  },
  {
   "cell_type": "code",
   "execution_count": 7,
   "id": "ce8a724e",
   "metadata": {},
   "outputs": [],
   "source": [
    "# with the database reflected, we can save our references to each table\n",
    "\n",
    "Measurement = Base.classes.measurement\n",
    "Station = Base.classes.station"
   ]
  },
  {
   "cell_type": "code",
   "execution_count": 8,
   "id": "441a8511",
   "metadata": {},
   "outputs": [],
   "source": [
    "# create a session link from python to our databse \n",
    "\n",
    "session = Session(engine)"
   ]
  },
  {
   "cell_type": "code",
   "execution_count": 9,
   "id": "d5c93595",
   "metadata": {},
   "outputs": [],
   "source": [
    "# create a Flask application called \"app.\"\n",
    "\n",
    "app = Flask(__name__)"
   ]
  },
  {
   "cell_type": "code",
   "execution_count": 10,
   "id": "baebe47c",
   "metadata": {},
   "outputs": [
    {
     "name": "stdout",
     "output_type": "stream",
     "text": [
      "example __name__ = %s __main__\n",
      "example is being run directly.\n"
     ]
    }
   ],
   "source": [
    "import app\n",
    "\n",
    "print(\"example __name__ = %s\", __name__)\n",
    "\n",
    "if __name__ == \"__main__\":\n",
    "    print(\"example is being run directly.\")\n",
    "else:\n",
    "    print(\"example is being imported\")"
   ]
  },
  {
   "cell_type": "code",
   "execution_count": 11,
   "id": "0b08b940",
   "metadata": {},
   "outputs": [
    {
     "ename": "SyntaxError",
     "evalue": "unexpected EOF while parsing (Temp/ipykernel_11424/1616990076.py, line 1)",
     "output_type": "error",
     "traceback": [
      "\u001b[1;36m  File \u001b[1;32m\"C:\\Users\\kimbe\\AppData\\Local\\Temp/ipykernel_11424/1616990076.py\"\u001b[1;36m, line \u001b[1;32m1\u001b[0m\n\u001b[1;33m    @app.route(\"/\")\u001b[0m\n\u001b[1;37m                   ^\u001b[0m\n\u001b[1;31mSyntaxError\u001b[0m\u001b[1;31m:\u001b[0m unexpected EOF while parsing\n"
     ]
    }
   ],
   "source": [
    "@app.route(\"/\")\n",
    "\n",
    "def welcome():\n",
    "    return(\n",
    "    '''\n",
    "    Welcome to the Climate Analysis API!\n",
    "    Available Routes:\n",
    "    /api/v1.0/precipitation\n",
    "    /api/v1.0/stations\n",
    "    /api/v1.0/tobs\n",
    "    /api/v1.0/temp/start/end\n",
    "    ''')"
   ]
  },
  {
   "cell_type": "code",
   "execution_count": null,
   "id": "6e4014da",
   "metadata": {},
   "outputs": [],
   "source": []
  },
  {
   "cell_type": "code",
   "execution_count": null,
   "id": "4ac7e6c0",
   "metadata": {},
   "outputs": [],
   "source": []
  },
  {
   "cell_type": "code",
   "execution_count": null,
   "id": "c058406b",
   "metadata": {},
   "outputs": [],
   "source": []
  },
  {
   "cell_type": "code",
   "execution_count": null,
   "id": "4783d0e1",
   "metadata": {},
   "outputs": [],
   "source": []
  },
  {
   "cell_type": "code",
   "execution_count": null,
   "id": "7b5a5ed3",
   "metadata": {},
   "outputs": [],
   "source": []
  }
 ],
 "metadata": {
  "kernelspec": {
   "display_name": "PythonData",
   "language": "python",
   "name": "pythondata"
  },
  "language_info": {
   "codemirror_mode": {
    "name": "ipython",
    "version": 3
   },
   "file_extension": ".py",
   "mimetype": "text/x-python",
   "name": "python",
   "nbconvert_exporter": "python",
   "pygments_lexer": "ipython3",
   "version": "3.9.7"
  }
 },
 "nbformat": 4,
 "nbformat_minor": 5
}
